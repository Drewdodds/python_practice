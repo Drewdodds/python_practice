{
 "cells": [
  {
   "cell_type": "markdown",
   "metadata": {},
   "source": [
    "Video: https://www.youtube.com/watch?v=Ercd-Ip5PfQ&list=PL-osiE80TeTvipOqomVEeZ1HRrcEvtZB_&index=9\n",
    "\n",
    "In this video we are learn how to plot data that is continously being generated in real time. These time plots are great for data that is changing freqently that you want to monitor. \n",
    "Ex: real time youtube subcriber accounts. \n",
    "\n",
    "First, we will look at a basic example where we plot some data that's directly in our python script so we can wrap our heads around how this is working.\n",
    "Then, we'll look at a real world example where we are monitoring a csv file. \n",
    "\n",
    "If you are pulling data from a real time api or sensor of some kind, then it's pretty common wo write those results to a csv file. We'll monitor that for changes and monitor our plot.\n",
    "\n",
    "Below is sample code in our script. First, we'll look at thsese real time plots. "
   ]
  },
  {
   "cell_type": "code",
   "execution_count": 13,
   "metadata": {},
   "outputs": [
    {
     "name": "stderr",
     "output_type": "stream",
     "text": [
      "C:\\Users\\ddodds\\AppData\\Roaming\\Python\\Python38\\site-packages\\matplotlib\\animation.py:879: UserWarning: Animation was deleted without rendering anything. This is most likely not intended. To prevent deletion, assign the Animation to a variable, e.g. `anim`, that exists until you output the Animation using `plt.show()` or `anim.save()`.\n",
      "  warnings.warn(\n"
     ]
    },
    {
     "data": {
      "text/plain": [
       "<Figure size 640x480 with 0 Axes>"
      ]
     },
     "metadata": {},
     "output_type": "display_data"
    }
   ],
   "source": [
    "import random\n",
    "from itertools import count\n",
    "import pandas as pd\n",
    "import matplotlib.pyplot as plt\n",
    "from matplotlib.animation import FuncAnimation\n",
    "\n",
    "plt.style.use('fivethirtyeight')\n",
    "\n",
    "x_vals = []\n",
    "y_vals = []\n",
    "\n",
    "\n",
    "index = count() # this counts up one number at a time and each time we get the next number. \n",
    "\n",
    "def animate(i):\n",
    "    x_vals.append(next(index)) # this count will be sequenctial \n",
    "    y_vals.append(random.randint(0, 5)) # this count will be random counts between 0 and 5\n",
    "    \n",
    "    plt.cla()\n",
    "    plt.plot(x_vals, y_vals)\n",
    "\n",
    "anim = FuncAnimation(plt.gcf(), animate, interval=1000)   # tells that animation to run on a certian interval \n",
    "# each time we count we are appending a new number to our x values list and y values list.  \n",
    "# let's say we wanted to run this function every second and plot these values that are getting appended. How? We can use the fun animation class from matplot lib animation mod. \n",
    "\n",
    "plt.tight_layout()\n",
    "plt.show()\n"
   ]
  },
  {
   "cell_type": "markdown",
   "metadata": {},
   "source": [
    "Now let's plot some real world data from a csv source which will be updated on an interval. "
   ]
  },
  {
   "cell_type": "code",
   "execution_count": 14,
   "metadata": {},
   "outputs": [
    {
     "name": "stderr",
     "output_type": "stream",
     "text": [
      "C:\\Users\\ddodds\\AppData\\Roaming\\Python\\Python38\\site-packages\\matplotlib\\animation.py:879: UserWarning: Animation was deleted without rendering anything. This is most likely not intended. To prevent deletion, assign the Animation to a variable, e.g. `anim`, that exists until you output the Animation using `plt.show()` or `anim.save()`.\n",
      "  warnings.warn(\n"
     ]
    },
    {
     "data": {
      "text/plain": [
       "<Figure size 640x480 with 0 Axes>"
      ]
     },
     "metadata": {},
     "output_type": "display_data"
    }
   ],
   "source": [
    "def animate(i):\n",
    "    data = pd.read_csv('data_sample.csv')\n",
    "    x = data['x_vals']\n",
    "    y1 = data['total_1']\n",
    "    y2 = data['total_2']\n",
    "    plt.cla()\n",
    "\n",
    "    plt.plot(x, y1, label='Channel 1')\n",
    "    plt.plot(x, y2, label='Channel 2')\n",
    "\n",
    "    plt.legend(loc='upper left')\n",
    "    plt.tight_layout()\n",
    "\n",
    "ani = FuncAnimation(plt.gcf(), animate, interval=1000)\n",
    "\n",
    "plt.tight_layout()\n",
    "plt.show()"
   ]
  }
 ],
 "metadata": {
  "kernelspec": {
   "display_name": "Python 3",
   "language": "python",
   "name": "python3"
  },
  "language_info": {
   "codemirror_mode": {
    "name": "ipython",
    "version": 3
   },
   "file_extension": ".py",
   "mimetype": "text/x-python",
   "name": "python",
   "nbconvert_exporter": "python",
   "pygments_lexer": "ipython3",
   "version": "3.8.10"
  },
  "orig_nbformat": 4
 },
 "nbformat": 4,
 "nbformat_minor": 2
}
